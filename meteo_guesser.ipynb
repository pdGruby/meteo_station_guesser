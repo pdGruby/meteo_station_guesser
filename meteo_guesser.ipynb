{
 "cells": [
  {
   "cell_type": "code",
   "execution_count": 1,
   "id": "e670d837-bb53-423a-a195-a05329078944",
   "metadata": {},
   "outputs": [],
   "source": [
    "import pandas as pd\n",
    "import numpy as np\n",
    "import cloupy as cl"
   ]
  },
  {
   "cell_type": "markdown",
   "id": "05753309-b067-472d-9a3d-0850755bad70",
   "metadata": {},
   "source": [
    "# Data download & cleaning"
   ]
  },
  {
   "cell_type": "code",
   "execution_count": null,
   "id": "e8b5e2eb-51d9-4e56-9102-5ef7f53a336d",
   "metadata": {},
   "outputs": [],
   "source": [
    "df = cl.d_imgw_data('prompt', 'synop', years_range=range(2007, 2023))"
   ]
  },
  {
   "cell_type": "code",
   "execution_count": 11,
   "id": "698d6bd0-1732-4fbd-9da8-8dc123854325",
   "metadata": {},
   "outputs": [],
   "source": [
    "df = df.iloc[:, [1, 3, 5, 29, 25, 41]]\n",
    "df.columns = ['station', 'month', 'hour', 'temp', 'ws', 'slp']"
   ]
  },
  {
   "cell_type": "code",
   "execution_count": 13,
   "id": "74e10637-16ad-48bd-bfb5-40f3ad330dea",
   "metadata": {},
   "outputs": [],
   "source": [
    "df.to_csv('meteo_data.csv')"
   ]
  },
  {
   "cell_type": "markdown",
   "id": "4571b7c1-6648-4a6a-9b28-3743c67985dc",
   "metadata": {},
   "source": [
    "# Data preparation"
   ]
  },
  {
   "cell_type": "code",
   "execution_count": 2,
   "id": "052bc851-c5d4-4607-acbf-bba995bb9bda",
   "metadata": {},
   "outputs": [],
   "source": [
    "df = pd.read_csv('meteo_data.csv', index_col=0)"
   ]
  },
  {
   "cell_type": "code",
   "execution_count": 559,
   "id": "d003f33e-d22c-42c7-8b86-a26eef50ef75",
   "metadata": {},
   "outputs": [],
   "source": [
    "stations = ['KASPROWY WIERCH', 'WROCŁAW', 'SUWAŁKI', 'POZNAŃ', 'WARSZAWA', 'SZCZECIN']\n",
    "df = df[df['station'].isin(stations)]"
   ]
  },
  {
   "cell_type": "code",
   "execution_count": 560,
   "id": "7f526f01-ae81-4a07-b643-8b3fa8bc7cfe",
   "metadata": {},
   "outputs": [
    {
     "data": {
      "text/html": [
       "<div>\n",
       "<style scoped>\n",
       "    .dataframe tbody tr th:only-of-type {\n",
       "        vertical-align: middle;\n",
       "    }\n",
       "\n",
       "    .dataframe tbody tr th {\n",
       "        vertical-align: top;\n",
       "    }\n",
       "\n",
       "    .dataframe thead th {\n",
       "        text-align: right;\n",
       "    }\n",
       "</style>\n",
       "<table border=\"1\" class=\"dataframe\">\n",
       "  <thead>\n",
       "    <tr style=\"text-align: right;\">\n",
       "      <th></th>\n",
       "      <th>station</th>\n",
       "      <th>month</th>\n",
       "      <th>hour</th>\n",
       "      <th>temp</th>\n",
       "      <th>ws</th>\n",
       "      <th>slp</th>\n",
       "    </tr>\n",
       "  </thead>\n",
       "  <tbody>\n",
       "    <tr>\n",
       "      <th>0</th>\n",
       "      <td>SUWAŁKI</td>\n",
       "      <td>1</td>\n",
       "      <td>0</td>\n",
       "      <td>5.3</td>\n",
       "      <td>8</td>\n",
       "      <td>990.0</td>\n",
       "    </tr>\n",
       "    <tr>\n",
       "      <th>1</th>\n",
       "      <td>SUWAŁKI</td>\n",
       "      <td>1</td>\n",
       "      <td>1</td>\n",
       "      <td>5.3</td>\n",
       "      <td>6</td>\n",
       "      <td>990.2</td>\n",
       "    </tr>\n",
       "    <tr>\n",
       "      <th>2</th>\n",
       "      <td>SUWAŁKI</td>\n",
       "      <td>1</td>\n",
       "      <td>2</td>\n",
       "      <td>5.1</td>\n",
       "      <td>5</td>\n",
       "      <td>989.9</td>\n",
       "    </tr>\n",
       "    <tr>\n",
       "      <th>3</th>\n",
       "      <td>SUWAŁKI</td>\n",
       "      <td>1</td>\n",
       "      <td>3</td>\n",
       "      <td>4.8</td>\n",
       "      <td>6</td>\n",
       "      <td>988.9</td>\n",
       "    </tr>\n",
       "    <tr>\n",
       "      <th>4</th>\n",
       "      <td>SUWAŁKI</td>\n",
       "      <td>1</td>\n",
       "      <td>4</td>\n",
       "      <td>4.4</td>\n",
       "      <td>7</td>\n",
       "      <td>988.3</td>\n",
       "    </tr>\n",
       "    <tr>\n",
       "      <th>...</th>\n",
       "      <td>...</td>\n",
       "      <td>...</td>\n",
       "      <td>...</td>\n",
       "      <td>...</td>\n",
       "      <td>...</td>\n",
       "      <td>...</td>\n",
       "    </tr>\n",
       "    <tr>\n",
       "      <th>8755</th>\n",
       "      <td>KASPROWY WIERCH</td>\n",
       "      <td>12</td>\n",
       "      <td>19</td>\n",
       "      <td>5.3</td>\n",
       "      <td>15</td>\n",
       "      <td>804.9</td>\n",
       "    </tr>\n",
       "    <tr>\n",
       "      <th>8756</th>\n",
       "      <td>KASPROWY WIERCH</td>\n",
       "      <td>12</td>\n",
       "      <td>20</td>\n",
       "      <td>5.2</td>\n",
       "      <td>12</td>\n",
       "      <td>805.6</td>\n",
       "    </tr>\n",
       "    <tr>\n",
       "      <th>8757</th>\n",
       "      <td>KASPROWY WIERCH</td>\n",
       "      <td>12</td>\n",
       "      <td>21</td>\n",
       "      <td>5.7</td>\n",
       "      <td>11</td>\n",
       "      <td>806.4</td>\n",
       "    </tr>\n",
       "    <tr>\n",
       "      <th>8758</th>\n",
       "      <td>KASPROWY WIERCH</td>\n",
       "      <td>12</td>\n",
       "      <td>22</td>\n",
       "      <td>5.0</td>\n",
       "      <td>10</td>\n",
       "      <td>806.5</td>\n",
       "    </tr>\n",
       "    <tr>\n",
       "      <th>8759</th>\n",
       "      <td>KASPROWY WIERCH</td>\n",
       "      <td>12</td>\n",
       "      <td>23</td>\n",
       "      <td>5.3</td>\n",
       "      <td>13</td>\n",
       "      <td>806.1</td>\n",
       "    </tr>\n",
       "  </tbody>\n",
       "</table>\n",
       "<p>841531 rows × 6 columns</p>\n",
       "</div>"
      ],
      "text/plain": [
       "              station  month  hour  temp  ws    slp\n",
       "0             SUWAŁKI      1     0   5.3   8  990.0\n",
       "1             SUWAŁKI      1     1   5.3   6  990.2\n",
       "2             SUWAŁKI      1     2   5.1   5  989.9\n",
       "3             SUWAŁKI      1     3   4.8   6  988.9\n",
       "4             SUWAŁKI      1     4   4.4   7  988.3\n",
       "...               ...    ...   ...   ...  ..    ...\n",
       "8755  KASPROWY WIERCH     12    19   5.3  15  804.9\n",
       "8756  KASPROWY WIERCH     12    20   5.2  12  805.6\n",
       "8757  KASPROWY WIERCH     12    21   5.7  11  806.4\n",
       "8758  KASPROWY WIERCH     12    22   5.0  10  806.5\n",
       "8759  KASPROWY WIERCH     12    23   5.3  13  806.1\n",
       "\n",
       "[841531 rows x 6 columns]"
      ]
     },
     "execution_count": 560,
     "metadata": {},
     "output_type": "execute_result"
    }
   ],
   "source": [
    "df"
   ]
  },
  {
   "cell_type": "markdown",
   "id": "663fdee4-31b4-48d7-8209-f68deff1d486",
   "metadata": {},
   "source": [
    "# Class"
   ]
  },
  {
   "cell_type": "code",
   "execution_count": 15,
   "id": "deb0dbe2-5d61-43e6-b18f-539a81260681",
   "metadata": {},
   "outputs": [],
   "source": [
    "from sklearn.model_selection import train_test_split\n",
    "from sklearn.linear_model import LogisticRegression\n",
    "from sklearn.model_selection import GridSearchCV\n",
    "from sklearn.preprocessing import StandardScaler\n",
    "from sklearn.metrics import f1_score\n",
    "\n",
    "class LRModel:\n",
    "    def __init__(self, df):\n",
    "        self.df = df\n",
    "        self.filtered_df = None\n",
    "        self.stations = None\n",
    "        \n",
    "        self.x_train = None\n",
    "        self.x_test = None\n",
    "        self.y_train = None\n",
    "        self.y_test = None\n",
    "        \n",
    "        self.found_C = None\n",
    "        self.found_solver = None\n",
    "        self.found_max_iter = None\n",
    "        \n",
    "    def select_stations(self, stations):\n",
    "        filtered_df = df[df['station'].isin(stations)]\n",
    "        \n",
    "        self.filtered_df = filtered_df\n",
    "        self.stations = stations\n",
    "        print(f'Unique stations in the filtered dataframe: {self.filtered_df.station.unique()}\\n')\n",
    "        \n",
    "    def create_train_and_test_set(self, test_size=0.2):  \n",
    "        target = self.filtered_df.station.to_numpy()\n",
    "        variables = self.filtered_df.drop('station', axis=1).to_numpy()\n",
    "        \n",
    "        self.x_train, self.x_test, self.y_train, self.y_test = train_test_split(variables, target, test_size=test_size)\n",
    "        \n",
    "    def standardize_data(self):\n",
    "        scaler = StandardScaler()\n",
    "        self.x_train = scaler.fit_transform(self.x_train)\n",
    "        self.x_test = scaler.transform(self.x_test)\n",
    "    \n",
    "    def find_hyperparameters(self, C=[0.0, 0.275, 0.55, 0.825, 1.1], solver=['saga', 'lbfgs'], max_iter=[100, 1000, 2500, 5000, 10000]):\n",
    "        param_grid = [\n",
    "            {'C': C,\n",
    "             'solver': solver,\n",
    "             'max_iter': max_iter\n",
    "            }\n",
    "        ]\n",
    "        \n",
    "        clf = GridSearchCV(LogisticRegression(), param_grid=param_grid, cv=3, verbose=3, n_jobs=-1)\n",
    "        best_clf = clf.fit(self.x_train, self.y_train)\n",
    "\n",
    "        self.found_C = best_clf.best_params_['C']\n",
    "        self.found_solver = best_clf.best_params_['solver']\n",
    "        self.found_max_iter = best_clf.best_params_['max_iter']\n",
    "        \n",
    "        print(f'Found hyperparameters: {best_clf.best_params_}')\n",
    "        \n",
    "    def fit(self, solver=None, max_iter=None, C=None):\n",
    "        if solver is None:\n",
    "            solver = self.found_solver\n",
    "        if max_iter is None:\n",
    "            max_iter = self.found_max_iter\n",
    "        if C is None:\n",
    "            C = self.found_C\n",
    "        \n",
    "        log_reg = LogisticRegression(solver=solver, max_iter=max_iter, C=C, n_jobs=-1)\n",
    "        log_reg.fit(self.x_train, self.y_train)\n",
    "        \n",
    "        self.model = log_reg\n",
    "        \n",
    "    def evaluate(self):\n",
    "        scor = self.model.score(self.x_test, self.y_test)\n",
    "        f1_scor = f1_score(self.y_test, self.model.predict(self.x_test), labels=self.stations, average=None)\n",
    "        print( \n",
    "            f'Score [%]: {round(scor, 2)}\\n'\n",
    "            f'F1 Score [%]: {[(self.stations[i], round(f1_scor[i], 2)) for i in range(len(self.stations))]}'\n",
    "             )\n",
    "    "
   ]
  },
  {
   "cell_type": "markdown",
   "id": "72ded6a8-9b82-4ccb-b376-426661569758",
   "metadata": {},
   "source": [
    "# A. 3 stations"
   ]
  },
  {
   "cell_type": "markdown",
   "id": "d7e536b1-9186-47d1-930c-0c0cd760ae11",
   "metadata": {
    "tags": []
   },
   "source": [
    "### A.1. KASPROWY WIERCH, SUWAŁKI, SZCZECIN: these are 3 stations with a completely different climate (alpine, more continental, more oceanic)"
   ]
  },
  {
   "cell_type": "code",
   "execution_count": 711,
   "id": "83435069-e71f-41ab-87a9-fa9cba317854",
   "metadata": {},
   "outputs": [],
   "source": [
    "from sklearn.model_selection import GridSearchCV\n",
    "\n",
    "LR = LRModel(df)"
   ]
  },
  {
   "cell_type": "code",
   "execution_count": 712,
   "id": "a41208d9-f836-4f82-b125-8b87b4514982",
   "metadata": {},
   "outputs": [
    {
     "name": "stdout",
     "output_type": "stream",
     "text": [
      "Unique stations in the filtered dataframe: ['SUWAŁKI' 'SZCZECIN' 'KASPROWY WIERCH']\n",
      "\n",
      "Fitting 3 folds for each of 50 candidates, totalling 150 fits\n"
     ]
    },
    {
     "name": "stderr",
     "output_type": "stream",
     "text": [
      "D:\\Python\\lib\\site-packages\\sklearn\\model_selection\\_validation.py:372: FitFailedWarning: \n",
      "30 fits failed out of a total of 150.\n",
      "The score on these train-test partitions for these parameters will be set to nan.\n",
      "If these failures are not expected, you can try to debug them by setting error_score='raise'.\n",
      "\n",
      "Below are more details about the failures:\n",
      "--------------------------------------------------------------------------------\n",
      "15 fits failed with the following error:\n",
      "Traceback (most recent call last):\n",
      "  File \"D:\\Python\\lib\\site-packages\\sklearn\\model_selection\\_validation.py\", line 680, in _fit_and_score\n",
      "    estimator.fit(X_train, y_train, **fit_params)\n",
      "  File \"D:\\Python\\lib\\site-packages\\sklearn\\linear_model\\_logistic.py\", line 1589, in fit\n",
      "    fold_coefs_ = Parallel(\n",
      "  File \"D:\\Python\\lib\\site-packages\\joblib\\parallel.py\", line 1043, in __call__\n",
      "    if self.dispatch_one_batch(iterator):\n",
      "  File \"D:\\Python\\lib\\site-packages\\joblib\\parallel.py\", line 861, in dispatch_one_batch\n",
      "    self._dispatch(tasks)\n",
      "  File \"D:\\Python\\lib\\site-packages\\joblib\\parallel.py\", line 779, in _dispatch\n",
      "    job = self._backend.apply_async(batch, callback=cb)\n",
      "  File \"D:\\Python\\lib\\site-packages\\joblib\\_parallel_backends.py\", line 208, in apply_async\n",
      "    result = ImmediateResult(func)\n",
      "  File \"D:\\Python\\lib\\site-packages\\joblib\\_parallel_backends.py\", line 572, in __init__\n",
      "    self.results = batch()\n",
      "  File \"D:\\Python\\lib\\site-packages\\joblib\\parallel.py\", line 262, in __call__\n",
      "    return [func(*args, **kwargs)\n",
      "  File \"D:\\Python\\lib\\site-packages\\joblib\\parallel.py\", line 262, in <listcomp>\n",
      "    return [func(*args, **kwargs)\n",
      "  File \"D:\\Python\\lib\\site-packages\\sklearn\\utils\\fixes.py\", line 216, in __call__\n",
      "    return self.function(*args, **kwargs)\n",
      "  File \"D:\\Python\\lib\\site-packages\\sklearn\\linear_model\\_logistic.py\", line 858, in _logistic_regression_path\n",
      "    alpha = 1.0 / C\n",
      "ZeroDivisionError: float division by zero\n",
      "\n",
      "--------------------------------------------------------------------------------\n",
      "15 fits failed with the following error:\n",
      "Traceback (most recent call last):\n",
      "  File \"D:\\Python\\lib\\site-packages\\sklearn\\model_selection\\_validation.py\", line 680, in _fit_and_score\n",
      "    estimator.fit(X_train, y_train, **fit_params)\n",
      "  File \"D:\\Python\\lib\\site-packages\\sklearn\\linear_model\\_logistic.py\", line 1589, in fit\n",
      "    fold_coefs_ = Parallel(\n",
      "  File \"D:\\Python\\lib\\site-packages\\joblib\\parallel.py\", line 1043, in __call__\n",
      "    if self.dispatch_one_batch(iterator):\n",
      "  File \"D:\\Python\\lib\\site-packages\\joblib\\parallel.py\", line 861, in dispatch_one_batch\n",
      "    self._dispatch(tasks)\n",
      "  File \"D:\\Python\\lib\\site-packages\\joblib\\parallel.py\", line 779, in _dispatch\n",
      "    job = self._backend.apply_async(batch, callback=cb)\n",
      "  File \"D:\\Python\\lib\\site-packages\\joblib\\_parallel_backends.py\", line 208, in apply_async\n",
      "    result = ImmediateResult(func)\n",
      "  File \"D:\\Python\\lib\\site-packages\\joblib\\_parallel_backends.py\", line 572, in __init__\n",
      "    self.results = batch()\n",
      "  File \"D:\\Python\\lib\\site-packages\\joblib\\parallel.py\", line 262, in __call__\n",
      "    return [func(*args, **kwargs)\n",
      "  File \"D:\\Python\\lib\\site-packages\\joblib\\parallel.py\", line 262, in <listcomp>\n",
      "    return [func(*args, **kwargs)\n",
      "  File \"D:\\Python\\lib\\site-packages\\sklearn\\utils\\fixes.py\", line 216, in __call__\n",
      "    return self.function(*args, **kwargs)\n",
      "  File \"D:\\Python\\lib\\site-packages\\sklearn\\linear_model\\_logistic.py\", line 811, in _logistic_regression_path\n",
      "    args=(X, target, 1.0 / C, sample_weight),\n",
      "ZeroDivisionError: float division by zero\n",
      "\n",
      "  warnings.warn(some_fits_failed_message, FitFailedWarning)\n",
      "D:\\Python\\lib\\site-packages\\sklearn\\model_selection\\_search.py:969: UserWarning: One or more of the test scores are non-finite: [       nan        nan        nan        nan        nan        nan\n",
      "        nan        nan        nan        nan 0.93537625 0.93537328\n",
      " 0.93537625 0.93537328 0.93536734 0.93537328 0.93537625 0.93537328\n",
      " 0.93537625 0.93537328 0.93537625 0.93538516 0.93538516 0.93538516\n",
      " 0.93539407 0.93538516 0.93539407 0.93538516 0.93539705 0.93538516\n",
      " 0.93538813 0.93538813 0.93538813 0.93538813 0.93537922 0.93538813\n",
      " 0.93538813 0.93538813 0.93538219 0.93538813 0.93537031 0.93539705\n",
      " 0.93538813 0.93537922 0.93538516 0.93537922 0.93538516 0.93537922\n",
      " 0.93538516 0.93537922]\n",
      "  warnings.warn(\n"
     ]
    },
    {
     "name": "stdout",
     "output_type": "stream",
     "text": [
      "Found hyperparameters: {'C': 0.55, 'max_iter': 10000, 'solver': 'saga'}\n",
      "Score [%]: 0.94\n",
      "F1 Score [%]: [('KASPROWY WIERCH', 1.0), ('SUWAŁKI', 0.9), ('SZCZECIN', 0.9)]\n"
     ]
    }
   ],
   "source": [
    "selected_stations = ['KASPROWY WIERCH', 'SUWAŁKI', 'SZCZECIN']\n",
    "\n",
    "LR.select_stations(selected_stations)\n",
    "LR.create_train_and_test_set()\n",
    "LR.standardize_data()\n",
    "\n",
    "LR.find_hyperparameters()\n",
    "LR.fit()\n",
    "LR.evaluate()"
   ]
  },
  {
   "cell_type": "markdown",
   "id": "ea9cba96-1343-4d38-9f66-1beda6888cc4",
   "metadata": {},
   "source": [
    "#### A.1. Quick summary\n",
    "- In case of completely different climates, logistic regression works really well - **mean accuracy: 94%; F1 Score: above 90% for every station**\n",
    "- I will use above hyperparameters for other sets of stations"
   ]
  },
  {
   "cell_type": "markdown",
   "id": "b63cb617-46c9-4efc-99d1-0aaeae83cde2",
   "metadata": {},
   "source": [
    "### A.2. KASPROWY WIERCH, SUWAŁKI, POZNAŃ: these are also 3 stations with a different climates, but the climate of POZNAŃ is not as oceanic as the climate of SZCZECIN"
   ]
  },
  {
   "cell_type": "code",
   "execution_count": 713,
   "id": "423fb915-0512-4909-bb4f-11b171928295",
   "metadata": {},
   "outputs": [
    {
     "name": "stdout",
     "output_type": "stream",
     "text": [
      "Unique stations in the filtered dataframe: ['SUWAŁKI' 'POZNAŃ' 'KASPROWY WIERCH']\n",
      "\n",
      "Score [%]: 0.86\n",
      "F1 Score [%]: [('KASPROWY WIERCH', 1.0), ('SUWAŁKI', 0.79), ('POZNAŃ', 0.79)]\n"
     ]
    }
   ],
   "source": [
    "selected_stations = ['KASPROWY WIERCH', 'SUWAŁKI', 'POZNAŃ']\n",
    "\n",
    "LR.select_stations(selected_stations)\n",
    "LR.create_train_and_test_set()\n",
    "LR.standardize_data()\n",
    "\n",
    "LR.fit()\n",
    "LR.evaluate()"
   ]
  },
  {
   "cell_type": "markdown",
   "id": "ad835baa-cf20-4886-8e3e-80bd3c6dd319",
   "metadata": {},
   "source": [
    "#### A.2. Quick summary\n",
    "\n",
    "- In this set of stations, the results are still good - not as good as in the A.1., but still\n",
    "- The result is worse a little, because the station in POZNAŃ and the station in SUWAŁKI are not as different as it was in the previous example"
   ]
  },
  {
   "cell_type": "markdown",
   "id": "3b9c0984-4c15-409c-9c4e-495c573ab9aa",
   "metadata": {},
   "source": [
    "### A.3. KASPROWY WIERCH, WARSZAWA, POZNAŃ: the stations in WARSZAWA and POZNAŃ have more similar climates, which should be noticable in the model performance"
   ]
  },
  {
   "cell_type": "code",
   "execution_count": 717,
   "id": "481cf1f1-212d-4cc7-8a84-cb44bff53d0c",
   "metadata": {},
   "outputs": [
    {
     "name": "stdout",
     "output_type": "stream",
     "text": [
      "Unique stations in the filtered dataframe: ['POZNAŃ' 'WARSZAWA' 'KASPROWY WIERCH']\n",
      "\n",
      "Score [%]: 0.71\n",
      "F1 Score [%]: [('KASPROWY WIERCH', 1.0), ('WARSZAWA', 0.56), ('POZNAŃ', 0.57)]\n"
     ]
    }
   ],
   "source": [
    "selected_stations = ['KASPROWY WIERCH', 'WARSZAWA', 'POZNAŃ']\n",
    "\n",
    "LR.select_stations(selected_stations)\n",
    "LR.create_train_and_test_set()\n",
    "LR.standardize_data()\n",
    "\n",
    "LR.fit()\n",
    "LR.evaluate()"
   ]
  },
  {
   "cell_type": "markdown",
   "id": "fe2c3db0-091a-4312-99a2-132bb4d847b4",
   "metadata": {},
   "source": [
    "#### A.3. Quick summary\n",
    "\n",
    "- As expected, the results are much worse due to high similarity of climates in POZNAŃ and WARSZAWA"
   ]
  },
  {
   "cell_type": "markdown",
   "id": "432aed99-8f4e-42f8-9c01-270516e81e25",
   "metadata": {},
   "source": [
    "### A.4. WROCŁAW, WARSZAWA, POZNAŃ: climate differences in the given 3 stations are not as clear as in the previous cases - the model performance should be poor"
   ]
  },
  {
   "cell_type": "code",
   "execution_count": 718,
   "id": "5e28241f-94c2-4abe-8098-b5c9930701db",
   "metadata": {},
   "outputs": [
    {
     "name": "stdout",
     "output_type": "stream",
     "text": [
      "Unique stations in the filtered dataframe: ['POZNAŃ' 'WARSZAWA' 'WROCŁAW']\n",
      "\n",
      "Score [%]: 0.41\n",
      "F1 Score [%]: [('WROCŁAW', 0.47), ('WARSZAWA', 0.18), ('POZNAŃ', 0.48)]\n"
     ]
    }
   ],
   "source": [
    "selected_stations = ['WROCŁAW', 'WARSZAWA', 'POZNAŃ']\n",
    "\n",
    "LR.select_stations(selected_stations)\n",
    "LR.create_train_and_test_set()\n",
    "LR.standardize_data()\n",
    "\n",
    "LR.fit()\n",
    "LR.evaluate()"
   ]
  },
  {
   "cell_type": "markdown",
   "id": "05aeedce-d650-4220-a036-fd793ae0b635",
   "metadata": {},
   "source": [
    "#### A.4. Quick summary\n",
    "\n",
    "- As expected, the model performance is really poor due to high similarity of climates in the given stations\n",
    "- The model performance is not much better than random picking from the set of 3 stations"
   ]
  },
  {
   "cell_type": "markdown",
   "id": "c25193cb-718f-463b-bae7-74655d727ea9",
   "metadata": {},
   "source": [
    "# B. 6 stations"
   ]
  },
  {
   "cell_type": "code",
   "execution_count": 721,
   "id": "d8a611c4-6b29-4359-9040-6b6d745158a9",
   "metadata": {},
   "outputs": [
    {
     "name": "stdout",
     "output_type": "stream",
     "text": [
      "Unique stations in the filtered dataframe: ['SUWAŁKI' 'SZCZECIN' 'POZNAŃ' 'WARSZAWA' 'WROCŁAW' 'KASPROWY WIERCH']\n",
      "\n",
      "Score [%]: 0.51\n",
      "F1 Score [%]: [('KASPROWY WIERCH', 1.0), ('WROCŁAW', 0.33), ('SUWAŁKI', 0.58), ('POZNAŃ', 0.27), ('WARSZAWA', 0.14), ('SZCZECIN', 0.61)]\n"
     ]
    }
   ],
   "source": [
    "selected_stations = ['KASPROWY WIERCH', 'WROCŁAW', 'SUWAŁKI', 'POZNAŃ', 'WARSZAWA', 'SZCZECIN']\n",
    "\n",
    "LR.select_stations(selected_stations)\n",
    "LR.create_train_and_test_set()\n",
    "LR.standardize_data()\n",
    "\n",
    "LR.fit()\n",
    "LR.evaluate()"
   ]
  },
  {
   "cell_type": "code",
   "execution_count": 728,
   "id": "dc31adee-01f3-4628-a231-59fd3f7a1054",
   "metadata": {},
   "outputs": [
    {
     "data": {
      "text/plain": [
       "POZNAŃ             140256\n",
       "WARSZAWA           140256\n",
       "WROCŁAW            140256\n",
       "KASPROWY WIERCH    140256\n",
       "SZCZECIN           140255\n",
       "SUWAŁKI            140252\n",
       "Name: station, dtype: int64"
      ]
     },
     "execution_count": 728,
     "metadata": {},
     "output_type": "execute_result"
    }
   ],
   "source": [
    "LR.df.station.value_counts()"
   ]
  },
  {
   "cell_type": "code",
   "execution_count": 725,
   "id": "82fe6fea-f954-47d7-970b-3250a577940e",
   "metadata": {},
   "outputs": [
    {
     "data": {
      "text/plain": [
       "station    False\n",
       "month      False\n",
       "hour       False\n",
       "temp       False\n",
       "ws         False\n",
       "slp        False\n",
       "dtype: bool"
      ]
     },
     "execution_count": 725,
     "metadata": {},
     "output_type": "execute_result"
    }
   ],
   "source": [
    "LR.df.isnull().any()"
   ]
  },
  {
   "cell_type": "markdown",
   "id": "8a6359a0-535b-41c0-bad6-cc963ec72532",
   "metadata": {},
   "source": [
    "#### B. Quick summary\n",
    "\n",
    "- The more different climate is, the highest F1 Score it gets - i.e. KASPROWY WIERCH's climate is unique (it's an alpine station), so the model does not have problems with recognizing this station\n",
    "- The less different climate is, the lowest F1 Score it gets - i.e. WARSZAWA, POZNAŃ and WROCŁAW have relatively similar climates, so the model does have problems with differentiate these stations\n",
    "- SZCZECIN and SUWAŁKI climates are marked by relatively different climates comparing to the other stations, so the model has much less problems with recognition"
   ]
  },
  {
   "cell_type": "markdown",
   "id": "dd1b7f8d-c41f-4fdc-bcaf-da3583234e32",
   "metadata": {},
   "source": [
    "# C. All stations from the dataset"
   ]
  },
  {
   "cell_type": "markdown",
   "id": "2ba75949-f6c9-4b39-acaa-51941166f1fc",
   "metadata": {},
   "source": [
    "As it can be seen in the above sections - the more unique climate of the station is, the better performance linear regression model gets. KASPROWY WIERCH is an alpine station, so there is no doubt about it's uniqueness.\n",
    "\n",
    "It is worth to note that the more stations in the training dataset are, then a single station has less probability to be unique. **What will happen if we extend the dataset? What will happen if we add another alpine-like stations? The model performance should be much weaker and it should be more problematic to recognize KASPROWY WIERCH.**"
   ]
  },
  {
   "cell_type": "markdown",
   "id": "63e1e426-298e-4c38-908c-b9b8452debb6",
   "metadata": {},
   "source": [
    "### Data preparation"
   ]
  },
  {
   "cell_type": "code",
   "execution_count": 5,
   "id": "f6242d01-ec03-44c5-8e90-c0335ca58b4d",
   "metadata": {},
   "outputs": [],
   "source": [
    "df = pd.read_csv('meteo_data.csv', index_col=0)"
   ]
  },
  {
   "cell_type": "code",
   "execution_count": 6,
   "id": "2c2d38bd-5b97-4fcb-9773-ead9fba1c187",
   "metadata": {},
   "outputs": [],
   "source": [
    "stations = ['KASPROWY WIERCH', 'WROCŁAW', 'SUWAŁKI', 'POZNAŃ', 'WARSZAWA', 'SZCZECIN', 'ŚNIEŻKA', 'HEL', 'ZAKOPANE', 'CHOJNICE']\n",
    "df = df[df['station'].isin(stations)]"
   ]
  },
  {
   "cell_type": "code",
   "execution_count": 7,
   "id": "e0800484-92eb-463e-8807-891ac76d871e",
   "metadata": {},
   "outputs": [
    {
     "data": {
      "text/plain": [
       "station    False\n",
       "month      False\n",
       "hour       False\n",
       "temp       False\n",
       "ws         False\n",
       "slp        False\n",
       "dtype: bool"
      ]
     },
     "execution_count": 7,
     "metadata": {},
     "output_type": "execute_result"
    }
   ],
   "source": [
    "df.isna().any()"
   ]
  },
  {
   "cell_type": "code",
   "execution_count": 8,
   "id": "b9720970-8b34-4a39-b7eb-0bfe25396725",
   "metadata": {},
   "outputs": [
    {
     "data": {
      "text/html": [
       "<div>\n",
       "<style scoped>\n",
       "    .dataframe tbody tr th:only-of-type {\n",
       "        vertical-align: middle;\n",
       "    }\n",
       "\n",
       "    .dataframe tbody tr th {\n",
       "        vertical-align: top;\n",
       "    }\n",
       "\n",
       "    .dataframe thead th {\n",
       "        text-align: right;\n",
       "    }\n",
       "</style>\n",
       "<table border=\"1\" class=\"dataframe\">\n",
       "  <thead>\n",
       "    <tr style=\"text-align: right;\">\n",
       "      <th></th>\n",
       "      <th>month</th>\n",
       "      <th>hour</th>\n",
       "      <th>temp</th>\n",
       "      <th>ws</th>\n",
       "      <th>slp</th>\n",
       "    </tr>\n",
       "  </thead>\n",
       "  <tbody>\n",
       "    <tr>\n",
       "      <th>count</th>\n",
       "      <td>1402554.00</td>\n",
       "      <td>1402554.00</td>\n",
       "      <td>1402554.00</td>\n",
       "      <td>1402554.00</td>\n",
       "      <td>1402554.00</td>\n",
       "    </tr>\n",
       "    <tr>\n",
       "      <th>mean</th>\n",
       "      <td>6.52</td>\n",
       "      <td>11.50</td>\n",
       "      <td>7.41</td>\n",
       "      <td>4.41</td>\n",
       "      <td>957.47</td>\n",
       "    </tr>\n",
       "    <tr>\n",
       "      <th>std</th>\n",
       "      <td>3.45</td>\n",
       "      <td>6.92</td>\n",
       "      <td>8.97</td>\n",
       "      <td>3.94</td>\n",
       "      <td>76.89</td>\n",
       "    </tr>\n",
       "    <tr>\n",
       "      <th>min</th>\n",
       "      <td>1.00</td>\n",
       "      <td>0.00</td>\n",
       "      <td>-28.50</td>\n",
       "      <td>0.00</td>\n",
       "      <td>0.00</td>\n",
       "    </tr>\n",
       "    <tr>\n",
       "      <th>25%</th>\n",
       "      <td>4.00</td>\n",
       "      <td>6.00</td>\n",
       "      <td>1.10</td>\n",
       "      <td>2.00</td>\n",
       "      <td>918.30</td>\n",
       "    </tr>\n",
       "    <tr>\n",
       "      <th>50%</th>\n",
       "      <td>7.00</td>\n",
       "      <td>12.00</td>\n",
       "      <td>7.10</td>\n",
       "      <td>3.00</td>\n",
       "      <td>996.80</td>\n",
       "    </tr>\n",
       "    <tr>\n",
       "      <th>75%</th>\n",
       "      <td>10.00</td>\n",
       "      <td>17.75</td>\n",
       "      <td>14.00</td>\n",
       "      <td>5.00</td>\n",
       "      <td>1007.90</td>\n",
       "    </tr>\n",
       "    <tr>\n",
       "      <th>max</th>\n",
       "      <td>12.00</td>\n",
       "      <td>23.00</td>\n",
       "      <td>37.70</td>\n",
       "      <td>60.00</td>\n",
       "      <td>1048.00</td>\n",
       "    </tr>\n",
       "  </tbody>\n",
       "</table>\n",
       "</div>"
      ],
      "text/plain": [
       "            month        hour        temp          ws         slp\n",
       "count  1402554.00  1402554.00  1402554.00  1402554.00  1402554.00\n",
       "mean         6.52       11.50        7.41        4.41      957.47\n",
       "std          3.45        6.92        8.97        3.94       76.89\n",
       "min          1.00        0.00      -28.50        0.00        0.00\n",
       "25%          4.00        6.00        1.10        2.00      918.30\n",
       "50%          7.00       12.00        7.10        3.00      996.80\n",
       "75%         10.00       17.75       14.00        5.00     1007.90\n",
       "max         12.00       23.00       37.70       60.00     1048.00"
      ]
     },
     "execution_count": 8,
     "metadata": {},
     "output_type": "execute_result"
    }
   ],
   "source": [
    "df.describe().round(2)"
   ]
  },
  {
   "cell_type": "markdown",
   "id": "c6c0d6f6-13f1-4ec7-9689-ad0350897c6d",
   "metadata": {},
   "source": [
    "The station air pressure (slp) can not be equal to 0 - if it is, it means that there is a missing value"
   ]
  },
  {
   "cell_type": "code",
   "execution_count": 10,
   "id": "9222f5c5-df7b-42f4-8fd3-2a2d7c636b7b",
   "metadata": {},
   "outputs": [
    {
     "data": {
      "text/plain": [
       "133"
      ]
     },
     "execution_count": 10,
     "metadata": {},
     "output_type": "execute_result"
    }
   ],
   "source": [
    "(df.slp == 0).sum()"
   ]
  },
  {
   "cell_type": "code",
   "execution_count": 11,
   "id": "d6458355-5547-40a5-9b9c-077cad5fc7ed",
   "metadata": {},
   "outputs": [
    {
     "data": {
      "text/plain": [
       "(1402554, 6)"
      ]
     },
     "execution_count": 11,
     "metadata": {},
     "output_type": "execute_result"
    }
   ],
   "source": [
    "df.shape"
   ]
  },
  {
   "cell_type": "code",
   "execution_count": 12,
   "id": "16657383-7ef2-43aa-8b9f-7fecc77204cc",
   "metadata": {},
   "outputs": [],
   "source": [
    "df = df[df.slp > 0.1]"
   ]
  },
  {
   "cell_type": "code",
   "execution_count": 13,
   "id": "83ab73ef-3c5c-4edc-afc0-d93488f0e7e1",
   "metadata": {},
   "outputs": [
    {
     "data": {
      "text/html": [
       "<div>\n",
       "<style scoped>\n",
       "    .dataframe tbody tr th:only-of-type {\n",
       "        vertical-align: middle;\n",
       "    }\n",
       "\n",
       "    .dataframe tbody tr th {\n",
       "        vertical-align: top;\n",
       "    }\n",
       "\n",
       "    .dataframe thead th {\n",
       "        text-align: right;\n",
       "    }\n",
       "</style>\n",
       "<table border=\"1\" class=\"dataframe\">\n",
       "  <thead>\n",
       "    <tr style=\"text-align: right;\">\n",
       "      <th></th>\n",
       "      <th>month</th>\n",
       "      <th>hour</th>\n",
       "      <th>temp</th>\n",
       "      <th>ws</th>\n",
       "      <th>slp</th>\n",
       "    </tr>\n",
       "  </thead>\n",
       "  <tbody>\n",
       "    <tr>\n",
       "      <th>count</th>\n",
       "      <td>1402421.00</td>\n",
       "      <td>1402421.00</td>\n",
       "      <td>1402421.00</td>\n",
       "      <td>1402421.00</td>\n",
       "      <td>1402421.00</td>\n",
       "    </tr>\n",
       "    <tr>\n",
       "      <th>mean</th>\n",
       "      <td>6.52</td>\n",
       "      <td>11.50</td>\n",
       "      <td>7.41</td>\n",
       "      <td>4.41</td>\n",
       "      <td>957.56</td>\n",
       "    </tr>\n",
       "    <tr>\n",
       "      <th>std</th>\n",
       "      <td>3.45</td>\n",
       "      <td>6.92</td>\n",
       "      <td>8.97</td>\n",
       "      <td>3.94</td>\n",
       "      <td>76.33</td>\n",
       "    </tr>\n",
       "    <tr>\n",
       "      <th>min</th>\n",
       "      <td>1.00</td>\n",
       "      <td>0.00</td>\n",
       "      <td>-28.50</td>\n",
       "      <td>0.00</td>\n",
       "      <td>759.30</td>\n",
       "    </tr>\n",
       "    <tr>\n",
       "      <th>25%</th>\n",
       "      <td>4.00</td>\n",
       "      <td>6.00</td>\n",
       "      <td>1.10</td>\n",
       "      <td>2.00</td>\n",
       "      <td>918.30</td>\n",
       "    </tr>\n",
       "    <tr>\n",
       "      <th>50%</th>\n",
       "      <td>7.00</td>\n",
       "      <td>12.00</td>\n",
       "      <td>7.10</td>\n",
       "      <td>3.00</td>\n",
       "      <td>996.80</td>\n",
       "    </tr>\n",
       "    <tr>\n",
       "      <th>75%</th>\n",
       "      <td>10.00</td>\n",
       "      <td>17.00</td>\n",
       "      <td>14.00</td>\n",
       "      <td>5.00</td>\n",
       "      <td>1007.90</td>\n",
       "    </tr>\n",
       "    <tr>\n",
       "      <th>max</th>\n",
       "      <td>12.00</td>\n",
       "      <td>23.00</td>\n",
       "      <td>37.70</td>\n",
       "      <td>60.00</td>\n",
       "      <td>1048.00</td>\n",
       "    </tr>\n",
       "  </tbody>\n",
       "</table>\n",
       "</div>"
      ],
      "text/plain": [
       "            month        hour        temp          ws         slp\n",
       "count  1402421.00  1402421.00  1402421.00  1402421.00  1402421.00\n",
       "mean         6.52       11.50        7.41        4.41      957.56\n",
       "std          3.45        6.92        8.97        3.94       76.33\n",
       "min          1.00        0.00      -28.50        0.00      759.30\n",
       "25%          4.00        6.00        1.10        2.00      918.30\n",
       "50%          7.00       12.00        7.10        3.00      996.80\n",
       "75%         10.00       17.00       14.00        5.00     1007.90\n",
       "max         12.00       23.00       37.70       60.00     1048.00"
      ]
     },
     "execution_count": 13,
     "metadata": {},
     "output_type": "execute_result"
    }
   ],
   "source": [
    "df.describe().round(2)"
   ]
  },
  {
   "cell_type": "markdown",
   "id": "51f5f511-0a41-4467-acf2-a374389eb54e",
   "metadata": {},
   "source": [
    "### Fitting"
   ]
  },
  {
   "cell_type": "code",
   "execution_count": 18,
   "id": "1a4a4948-8a54-4150-ad5d-94b5b7581d60",
   "metadata": {},
   "outputs": [
    {
     "name": "stdout",
     "output_type": "stream",
     "text": [
      "Unique stations in the filtered dataframe: ['HEL' 'SUWAŁKI' 'SZCZECIN' 'CHOJNICE' 'POZNAŃ' 'WARSZAWA' 'WROCŁAW'\n",
      " 'ŚNIEŻKA' 'ZAKOPANE' 'KASPROWY WIERCH']\n",
      "\n",
      "Score [%]: 0.52\n",
      "F1 Score [%]: [('HEL', 0.36), ('SUWAŁKI', 0.43), ('SZCZECIN', 0.41), ('CHOJNICE', 0.26), ('POZNAŃ', 0.22), ('WARSZAWA', 0.12), ('WROCŁAW', 0.3), ('ŚNIEŻKA', 1.0), ('ZAKOPANE', 1.0), ('KASPROWY WIERCH', 1.0)]\n"
     ]
    }
   ],
   "source": [
    "LR = LRModel(df)\n",
    "selected_stations = list(df.station.unique())\n",
    "\n",
    "LR.select_stations(selected_stations)\n",
    "LR.create_train_and_test_set()\n",
    "LR.standardize_data()\n",
    "\n",
    "LR.fit(solver='saga', max_iter=10000, C=0.55)\n",
    "LR.evaluate()"
   ]
  },
  {
   "cell_type": "markdown",
   "id": "5cc52242-2de9-481f-b875-2d6fbfccc0c7",
   "metadata": {},
   "source": [
    "#### C. Quick Summary\n",
    "\n",
    "- The interesting thing is that adding more alpine-like stations (ŚNIEŻKA, ZAKOPANE) did not effect the model performance for KASPROWY WIERCH\n",
    "- What is more, the new alpine-like stations also have high F1 Score - all of them scored 100%\n",
    "- The new alpine-like stations seems to be again highly unique in comparision to the other stations. **One of the model variable is a station air pressure (not standarized to the sea level) - this may make it easy to guess if the given data comes from one of the alpine-like stations.** On the other hand, the air pressure variable is not that helpful in case of non-alpine stations.\n",
    "- The lowest F1 Score got POZNAŃ, CHOJNICE, WARSZAWA, WROCŁAW (below 30%). These stations are the least unique and it may be impossible to guess from which of the given stations the data comes from - for a human-being, it would be also challenging\n",
    "- Relatively low F1 Score got also HEL, SZCZECIN and SUWAŁKI; however these stations have some unique characteristics which make them easier to guess - HEL is a marine station, SZCZECIN's climate is more oceanic and SUWAŁKI's climate is more continental "
   ]
  },
  {
   "cell_type": "markdown",
   "id": "0e37e73f-ec61-4d5a-9bcf-1ef9448b5f17",
   "metadata": {},
   "source": [
    "# Summary\n",
    "\n",
    "- Logistic regression works well for specific stations, especially when pretty unique stations are chosen\n",
    "- Logistic regression have problems with recognition when there are stations with relatively similar climates - it is not surprising, a climatologist would also have problems with recognizing the stations properly on the basis of chosen variables\n",
    "- To improve the model performance, we could use more data for each station and use more variables (i.e. precipitation, cloud cover, wind direction etc.). Changing the model hyperparameters should not improve the model performance by much - the problem here is the amount of provided data and the data's nature"
   ]
  }
 ],
 "metadata": {
  "kernelspec": {
   "display_name": "Python 3 (ipykernel)",
   "language": "python",
   "name": "python3"
  },
  "language_info": {
   "codemirror_mode": {
    "name": "ipython",
    "version": 3
   },
   "file_extension": ".py",
   "mimetype": "text/x-python",
   "name": "python",
   "nbconvert_exporter": "python",
   "pygments_lexer": "ipython3",
   "version": "3.9.13"
  }
 },
 "nbformat": 4,
 "nbformat_minor": 5
}
